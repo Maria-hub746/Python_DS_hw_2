{
 "cells": [
  {
   "cell_type": "code",
   "execution_count": 3,
   "metadata": {},
   "outputs": [],
   "source": [
    "import pandas as pd"
   ]
  },
  {
   "cell_type": "code",
   "execution_count": 2,
   "metadata": {},
   "outputs": [
    {
     "name": "stdout",
     "output_type": "stream",
     "text": [
      "Collecting pandas\n",
      "  Downloading pandas-2.0.1-cp310-cp310-win_amd64.whl (10.7 MB)\n",
      "     ---------------------------------------- 10.7/10.7 MB 4.7 MB/s eta 0:00:00\n",
      "Collecting pytz>=2020.1\n",
      "  Downloading pytz-2023.3-py2.py3-none-any.whl (502 kB)\n",
      "     -------------------------------------- 502.3/502.3 kB 6.2 MB/s eta 0:00:00\n",
      "Requirement already satisfied: numpy>=1.21.0 in c:\\users\\asus\\appdata\\local\\programs\\python\\python310\\lib\\site-packages (from pandas) (1.24.2)\n",
      "Collecting tzdata>=2022.1\n",
      "  Downloading tzdata-2023.3-py2.py3-none-any.whl (341 kB)\n",
      "     ------------------------------------- 341.8/341.8 kB 10.7 MB/s eta 0:00:00\n",
      "Requirement already satisfied: python-dateutil>=2.8.2 in c:\\users\\asus\\appdata\\local\\programs\\python\\python310\\lib\\site-packages (from pandas) (2.8.2)\n",
      "Requirement already satisfied: six>=1.5 in c:\\users\\asus\\appdata\\local\\programs\\python\\python310\\lib\\site-packages (from python-dateutil>=2.8.2->pandas) (1.16.0)\n",
      "Installing collected packages: pytz, tzdata, pandas\n",
      "Successfully installed pandas-2.0.1 pytz-2023.3 tzdata-2023.3\n",
      "Note: you may need to restart the kernel to use updated packages.\n"
     ]
    },
    {
     "name": "stderr",
     "output_type": "stream",
     "text": [
      "\n",
      "[notice] A new release of pip available: 22.2.1 -> 23.1.1\n",
      "[notice] To update, run: python.exe -m pip install --upgrade pip\n"
     ]
    }
   ],
   "source": [
    "pip install pandas"
   ]
  },
  {
   "cell_type": "code",
   "execution_count": 98,
   "metadata": {},
   "outputs": [
    {
     "name": "stdout",
     "output_type": "stream",
     "text": [
      "             Регіон   1950   1960   1970  1990  2000  2012 2014 2019\n",
      "0              Крим  230.0  206.0  160.0   130    73   126    —    —\n",
      "1         Вінницька  224.0  192.0  142.0   124    84   112  109   76\n",
      "2         Волинська  247.0  250.0  179.0   153   112   148  141  101\n",
      "3  Дніпропетровська  204.0  204.0  151.0   123    71   112  111   71\n",
      "4          Донецька  271.0  214.0  140.0   109    61    98   82    —\n"
     ]
    }
   ],
   "source": [
    "tmp = pd.read_html(\"https://uk.wikipedia.org/wiki/%D0%9D%D0%B0%D1%81%D0%B5%D0%BB%D0%B5%D0%BD%D0%BD%D1%8F_%D0%A3%D0%BA%D1%80%D0%B0%D1%97%D0%BD%D0%B8#%D0%9D%D0%B0%D1%80%D0%BE%D0%B4%D0%B6%D1%83%D0%B2%D0%B0%D0%BD%D1%96%D1%81%D1%82%D1%8C\", attrs={\"class\": \"wikitable collapsible collapsed\"})\n",
    "table = tmp[3]\n",
    "print(table.head(5))"
   ]
  },
  {
   "cell_type": "code",
   "execution_count": 99,
   "metadata": {},
   "outputs": [
    {
     "name": "stdout",
     "output_type": "stream",
     "text": [
      "Кількість рядків та стовпців у датафреймі: (28, 9)\n"
     ]
    }
   ],
   "source": [
    "print(\"Кількість рядків та стовпців у датафреймі:\", table.shape)"
   ]
  },
  {
   "cell_type": "code",
   "execution_count": 100,
   "metadata": {},
   "outputs": [
    {
     "name": "stdout",
     "output_type": "stream",
     "text": [
      "               Регіон   1950   1960   1970  1990  2000  2012 2014 2019\n",
      "0                Крим  230.0  206.0  160.0   130    73   126  NaN  NaN\n",
      "1           Вінницька  224.0  192.0  142.0   124    84   112  109   76\n",
      "2           Волинська  247.0  250.0  179.0   153   112   148  141  101\n",
      "3    Дніпропетровська  204.0  204.0  151.0   123    71   112  111   71\n",
      "4            Донецька  271.0  214.0  140.0   109    61    98   82  NaN\n",
      "5         Житомирська  261.0  223.0  159.0   129    89   122  120   79\n",
      "6        Закарпатська  314.0  273.0  207.0   168   115   151  146  104\n",
      "7          Запорізька  219.0  197.0  150.0   124    71   106  106   68\n",
      "8   Івано-Франківська  243.0  248.0  182.0   155   103   124  122   88\n",
      "9            Київська  204.0  189.0  156.0   123    73   122  121   80\n",
      "10     Кіровоградська  216.0  171.0  145.0   126    79   110  108   68\n",
      "11          Луганська  262.0  235.0  144.0   116    62    96   51  NaN\n",
      "12          Львівська  234.0  240.0  171.0   140    91   119  119   87\n",
      "13       Миколаївська  211.0  194.0  155.0   137    80   115  112   71\n",
      "14            Одеська  241.0  192.0  148.0   126    80   127  123   88\n",
      "15         Полтавська  186.0  163.0  131.0   118    70    99  100   65\n",
      "16         Рівненська  269.0  267.0  193.0   158   118   159  148  107\n",
      "17            Сумська  216.0  184.0  132.0   115    70    97   92   60\n",
      "18      Тернопільська  213.0  216.0  157.0   142    92   113  109   76\n",
      "19         Харківська  197.0  173.0  140.0   114    68    99  101   68\n",
      "20         Херсонська  208.0  214.0  166.0   143    85   117  115   81\n",
      "21        Хмельницька  234.0  198.0  148.0   129    85   113  112   79\n",
      "22          Черкаська  205.0  179.0  144.0   123    75   100   98   64\n",
      "23        Чернівецька  247.0  218.0  170.0   148   101   128  129   92\n",
      "24       Чернігівська  220.0  183.0  127.0   108    69    94   90   61\n",
      "25               Київ    NaN  174.0  159.0   120    73   120  121  110\n",
      "26        Севастополь    NaN    NaN    NaN   125    70   120  NaN  NaN\n",
      "27            Україна  228.0  205.0  152.0   126    78   114  111   81\n"
     ]
    }
   ],
   "source": [
    "table = table.replace({\"—\": \"NaN\"})\n",
    "print(table)"
   ]
  },
  {
   "cell_type": "code",
   "execution_count": 88,
   "metadata": {},
   "outputs": [
    {
     "name": "stdout",
     "output_type": "stream",
     "text": [
      "Регіон     object\n",
      "1950      float64\n",
      "1960      float64\n",
      "1970      float64\n",
      "1990        int64\n",
      "2000        int64\n",
      "2012        int64\n",
      "2014       object\n",
      "2019       object\n",
      "dtype: object\n"
     ]
    }
   ],
   "source": [
    "print(table.dtypes)"
   ]
  },
  {
   "cell_type": "code",
   "execution_count": 107,
   "metadata": {},
   "outputs": [
    {
     "name": "stdout",
     "output_type": "stream",
     "text": [
      "Регіон     object\n",
      "1950      float64\n",
      "1960      float64\n",
      "1970      float64\n",
      "1990      float64\n",
      "2000      float64\n",
      "2012      float64\n",
      "2014      float64\n",
      "2019      float64\n",
      "dtype: object\n"
     ]
    }
   ],
   "source": [
    "table = table.astype({'1990':'float64', '2000': 'float64', '2012':'float64', '2014': 'float64', '2019':'float64'})\n",
    "print(table.dtypes)"
   ]
  },
  {
   "cell_type": "code",
   "execution_count": 28,
   "metadata": {},
   "outputs": [
    {
     "name": "stdout",
     "output_type": "stream",
     "text": [
      "Регіон    0\n",
      "1950      2\n",
      "1960      1\n",
      "1970      1\n",
      "1990      0\n",
      "2000      0\n",
      "2012      0\n",
      "2014      2\n",
      "2019      4\n",
      "dtype: int64\n"
     ]
    }
   ],
   "source": [
    "print(table.isnull().sum())"
   ]
  },
  {
   "cell_type": "code",
   "execution_count": 90,
   "metadata": {},
   "outputs": [
    {
     "name": "stdout",
     "output_type": "stream",
     "text": [
      "               Регіон   1950   1960   1970   1990   2000   2012   2014   2019\n",
      "0                Крим  230.0  206.0  160.0  130.0   73.0  126.0    NaN    NaN\n",
      "1           Вінницька  224.0  192.0  142.0  124.0   84.0  112.0  109.0   76.0\n",
      "2           Волинська  247.0  250.0  179.0  153.0  112.0  148.0  141.0  101.0\n",
      "3    Дніпропетровська  204.0  204.0  151.0  123.0   71.0  112.0  111.0   71.0\n",
      "4            Донецька  271.0  214.0  140.0  109.0   61.0   98.0   82.0    NaN\n",
      "5         Житомирська  261.0  223.0  159.0  129.0   89.0  122.0  120.0   79.0\n",
      "6        Закарпатська  314.0  273.0  207.0  168.0  115.0  151.0  146.0  104.0\n",
      "7          Запорізька  219.0  197.0  150.0  124.0   71.0  106.0  106.0   68.0\n",
      "8   Івано-Франківська  243.0  248.0  182.0  155.0  103.0  124.0  122.0   88.0\n",
      "9            Київська  204.0  189.0  156.0  123.0   73.0  122.0  121.0   80.0\n",
      "10     Кіровоградська  216.0  171.0  145.0  126.0   79.0  110.0  108.0   68.0\n",
      "11          Луганська  262.0  235.0  144.0  116.0   62.0   96.0   51.0    NaN\n",
      "12          Львівська  234.0  240.0  171.0  140.0   91.0  119.0  119.0   87.0\n",
      "13       Миколаївська  211.0  194.0  155.0  137.0   80.0  115.0  112.0   71.0\n",
      "14            Одеська  241.0  192.0  148.0  126.0   80.0  127.0  123.0   88.0\n",
      "15         Полтавська  186.0  163.0  131.0  118.0   70.0   99.0  100.0   65.0\n",
      "16         Рівненська  269.0  267.0  193.0  158.0  118.0  159.0  148.0  107.0\n",
      "17            Сумська  216.0  184.0  132.0  115.0   70.0   97.0   92.0   60.0\n",
      "18      Тернопільська  213.0  216.0  157.0  142.0   92.0  113.0  109.0   76.0\n",
      "19         Харківська  197.0  173.0  140.0  114.0   68.0   99.0  101.0   68.0\n",
      "20         Херсонська  208.0  214.0  166.0  143.0   85.0  117.0  115.0   81.0\n",
      "21        Хмельницька  234.0  198.0  148.0  129.0   85.0  113.0  112.0   79.0\n",
      "22          Черкаська  205.0  179.0  144.0  123.0   75.0  100.0   98.0   64.0\n",
      "23        Чернівецька  247.0  218.0  170.0  148.0  101.0  128.0  129.0   92.0\n",
      "24       Чернігівська  220.0  183.0  127.0  108.0   69.0   94.0   90.0   61.0\n",
      "25               Київ    NaN  174.0  159.0  120.0   73.0  120.0  121.0  110.0\n",
      "26        Севастополь    NaN    NaN    NaN  125.0   70.0  120.0    NaN    NaN\n"
     ]
    }
   ],
   "source": [
    "\n",
    "table = table.iloc[:-1]\n",
    "print(table)"
   ]
  },
  {
   "cell_type": "code",
   "execution_count": 93,
   "metadata": {},
   "outputs": [
    {
     "name": "stdout",
     "output_type": "stream",
     "text": [
      "               Регіон   1950   1960   1970   1990   2000   2012   2014   2019\n",
      "0                Крим  230.0  206.0  160.0  130.0   73.0  126.0  111.4   80.2\n",
      "1           Вінницька  224.0  192.0  142.0  124.0   84.0  112.0  109.0   76.0\n",
      "2           Волинська  247.0  250.0  179.0  153.0  112.0  148.0  141.0  101.0\n",
      "3    Дніпропетровська  204.0  204.0  151.0  123.0   71.0  112.0  111.0   71.0\n",
      "4            Донецька  271.0  214.0  140.0  109.0   61.0   98.0   82.0   80.2\n",
      "5         Житомирська  261.0  223.0  159.0  129.0   89.0  122.0  120.0   79.0\n",
      "6        Закарпатська  314.0  273.0  207.0  168.0  115.0  151.0  146.0  104.0\n",
      "7          Запорізька  219.0  197.0  150.0  124.0   71.0  106.0  106.0   68.0\n",
      "8   Івано-Франківська  243.0  248.0  182.0  155.0  103.0  124.0  122.0   88.0\n",
      "9            Київська  204.0  189.0  156.0  123.0   73.0  122.0  121.0   80.0\n",
      "10     Кіровоградська  216.0  171.0  145.0  126.0   79.0  110.0  108.0   68.0\n",
      "11          Луганська  262.0  235.0  144.0  116.0   62.0   96.0   51.0   80.2\n",
      "12          Львівська  234.0  240.0  171.0  140.0   91.0  119.0  119.0   87.0\n",
      "13       Миколаївська  211.0  194.0  155.0  137.0   80.0  115.0  112.0   71.0\n",
      "14            Одеська  241.0  192.0  148.0  126.0   80.0  127.0  123.0   88.0\n",
      "15         Полтавська  186.0  163.0  131.0  118.0   70.0   99.0  100.0   65.0\n",
      "16         Рівненська  269.0  267.0  193.0  158.0  118.0  159.0  148.0  107.0\n",
      "17            Сумська  216.0  184.0  132.0  115.0   70.0   97.0   92.0   60.0\n",
      "18      Тернопільська  213.0  216.0  157.0  142.0   92.0  113.0  109.0   76.0\n",
      "19         Харківська  197.0  173.0  140.0  114.0   68.0   99.0  101.0   68.0\n",
      "20         Херсонська  208.0  214.0  166.0  143.0   85.0  117.0  115.0   81.0\n",
      "21        Хмельницька  234.0  198.0  148.0  129.0   85.0  113.0  112.0   79.0\n",
      "22          Черкаська  205.0  179.0  144.0  123.0   75.0  100.0   98.0   64.0\n",
      "23        Чернівецька  247.0  218.0  170.0  148.0  101.0  128.0  129.0   92.0\n",
      "24       Чернігівська  220.0  183.0  127.0  108.0   69.0   94.0   90.0   61.0\n",
      "25               Київ  231.0  174.0  159.0  120.0   73.0  120.0  121.0  110.0\n",
      "26        Севастополь  231.0  207.6  156.0  125.0   70.0  120.0  111.4   80.2\n"
     ]
    }
   ],
   "source": [
    "for t in table:\n",
    "    if table[t].dtypes == 'float64':\n",
    "        table[t].fillna(table[t].mean().round(1), inplace=True)\n",
    "print(table)"
   ]
  },
  {
   "cell_type": "code",
   "execution_count": 121,
   "metadata": {},
   "outputs": [
    {
     "name": "stdout",
     "output_type": "stream",
     "text": [
      "Середні значення  80.2\n",
      "2             Волинська\n",
      "6          Закарпатська\n",
      "8     Івано-Франківська\n",
      "12            Львівська\n",
      "14              Одеська\n",
      "16           Рівненська\n",
      "20           Херсонська\n",
      "23          Чернівецька\n",
      "25                 Київ\n",
      "27              Україна\n",
      "Name: Регіон, dtype: object\n"
     ]
    }
   ],
   "source": [
    "br = table['2019'].mean().round(1)\n",
    "print('Середні значення ', br)\n",
    "print(table[table['2019'].ge(br)]['Регіон'])"
   ]
  },
  {
   "cell_type": "code",
   "execution_count": 122,
   "metadata": {},
   "outputs": [
    {
     "name": "stdout",
     "output_type": "stream",
     "text": [
      "Максимальне значення  148.0\n",
      "16    Рівненська\n",
      "Name: Регіон, dtype: object\n"
     ]
    }
   ],
   "source": [
    "max = table['2014'].max().round(1)\n",
    "print('Максимальне значення ', max)\n",
    "print(table[table['2014'].eq(max)]['Регіон'])"
   ]
  },
  {
   "cell_type": "code",
   "execution_count": 116,
   "metadata": {},
   "outputs": [],
   "source": [
    "\n",
    "import matplotlib.pyplot as plt"
   ]
  },
  {
   "cell_type": "code",
   "execution_count": 120,
   "metadata": {},
   "outputs": [
    {
     "data": {
      "image/png": "[encoded data removed]",
      "text/plain": [
       "<Figure size 640x480 with 1 Axes>"
      ]
     },
     "metadata": {},
     "output_type": "display_data"
    }
   ],
   "source": [
    "data = table[['Регіон', '2019']]\n",
    "plt.bar(data['Регіон'], data['2019'], color='blue')\n",
    "plt.xlabel('Регіон', fontsize='small')\n",
    "plt.xticks(rotation=90)\n",
    "plt.ylabel('Народжуваність', fontsize='small')\n",
    "plt.title('Народжуваність по регіонах України у 2019 році', color=\"blue\")\n",
    "plt.grid(axis='y')\n",
    "plt.show()"
   ]
  }
 ],
 "metadata": {
  "kernelspec": {
   "display_name": "Python 3",
   "language": "python",
   "name": "python3"
  },
  "language_info": {
   "codemirror_mode": {
    "name": "ipython",
    "version": 3
   },
   "file_extension": ".py",
   "mimetype": "text/x-python",
   "name": "python",
   "nbconvert_exporter": "python",
   "pygments_lexer": "ipython3",
   "version": "3.10.6"
  },
  "orig_nbformat": 4
 },
 "nbformat": 4,
 "nbformat_minor": 2
}
