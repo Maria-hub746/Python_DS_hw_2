{
 "cells": [
  {
   "cell_type": "code",
   "execution_count": 1,
   "metadata": {},
   "outputs": [
    {
     "name": "stdout",
     "output_type": "stream",
     "text": [
      "Requirement already satisfied: pandas in c:\\users\\asus\\appdata\\local\\programs\\python\\python310\\lib\\site-packages (2.0.1)\n",
      "Requirement already satisfied: pytz>=2020.1 in c:\\users\\asus\\appdata\\local\\programs\\python\\python310\\lib\\site-packages (from pandas) (2023.3)\n",
      "Requirement already satisfied: numpy>=1.21.0 in c:\\users\\asus\\appdata\\local\\programs\\python\\python310\\lib\\site-packages (from pandas) (1.24.2)\n",
      "Requirement already satisfied: python-dateutil>=2.8.2 in c:\\users\\asus\\appdata\\local\\programs\\python\\python310\\lib\\site-packages (from pandas) (2.8.2)\n",
      "Requirement already satisfied: tzdata>=2022.1 in c:\\users\\asus\\appdata\\local\\programs\\python\\python310\\lib\\site-packages (from pandas) (2023.3)\n",
      "Requirement already satisfied: six>=1.5 in c:\\users\\asus\\appdata\\local\\programs\\python\\python310\\lib\\site-packages (from python-dateutil>=2.8.2->pandas) (1.16.0)\n",
      "Note: you may need to restart the kernel to use updated packages.\n"
     ]
    },
    {
     "name": "stderr",
     "output_type": "stream",
     "text": [
      "\n",
      "[notice] A new release of pip available: 22.2.1 -> 23.1.2\n",
      "[notice] To update, run: python.exe -m pip install --upgrade pip\n"
     ]
    }
   ],
   "source": [
    "pip install pandas"
   ]
  },
  {
   "cell_type": "code",
   "execution_count": 2,
   "metadata": {},
   "outputs": [],
   "source": [
    "import pandas as pd"
   ]
  },
  {
   "cell_type": "code",
   "execution_count": 12,
   "metadata": {},
   "outputs": [
    {
     "data": {
      "text/html": [
       "<div>\n",
       "<style scoped>\n",
       "    .dataframe tbody tr th:only-of-type {\n",
       "        vertical-align: middle;\n",
       "    }\n",
       "\n",
       "    .dataframe tbody tr th {\n",
       "        vertical-align: top;\n",
       "    }\n",
       "\n",
       "    .dataframe thead th {\n",
       "        text-align: right;\n",
       "    }\n",
       "</style>\n",
       "<table border=\"1\" class=\"dataframe\">\n",
       "  <thead>\n",
       "    <tr style=\"text-align: right;\">\n",
       "      <th></th>\n",
       "      <th>N</th>\n",
       "      <th>Должность</th>\n",
       "      <th>Язык.программирования</th>\n",
       "      <th>Специализация</th>\n",
       "      <th>Общий.опыт.работы</th>\n",
       "      <th>Опыт.работы.на.текущем.месте</th>\n",
       "      <th>Зарплата.в.месяц</th>\n",
       "      <th>Изменение.зарплаты.за.12.месяцев</th>\n",
       "      <th>Город</th>\n",
       "      <th>Размер.компании</th>\n",
       "      <th>...</th>\n",
       "      <th>Еще.студент</th>\n",
       "      <th>Уровень.английского</th>\n",
       "      <th>Предметная.область</th>\n",
       "      <th>Дата.заполнения</th>\n",
       "      <th>User.Agent</th>\n",
       "      <th>exp</th>\n",
       "      <th>current_job_exp</th>\n",
       "      <th>salary</th>\n",
       "      <th>Валюта</th>\n",
       "      <th>cls</th>\n",
       "    </tr>\n",
       "  </thead>\n",
       "  <tbody>\n",
       "    <tr>\n",
       "      <th>0</th>\n",
       "      <td>1</td>\n",
       "      <td>Junior QA engineer</td>\n",
       "      <td>NaN</td>\n",
       "      <td>Manual QA</td>\n",
       "      <td>0.5</td>\n",
       "      <td>0.5</td>\n",
       "      <td>400</td>\n",
       "      <td>0</td>\n",
       "      <td>Харьков</td>\n",
       "      <td>до 10 человек</td>\n",
       "      <td>...</td>\n",
       "      <td>True</td>\n",
       "      <td>ниже среднего</td>\n",
       "      <td>iOS,eCommerce</td>\n",
       "      <td>12/06/2017 12:38:08</td>\n",
       "      <td>Mozilla/5.0 (Windows NT 10.0; Win64; x64) Appl...</td>\n",
       "      <td>0.5</td>\n",
       "      <td>0.5</td>\n",
       "      <td>400</td>\n",
       "      <td>NaN</td>\n",
       "      <td>QA</td>\n",
       "    </tr>\n",
       "    <tr>\n",
       "      <th>1</th>\n",
       "      <td>2</td>\n",
       "      <td>Junior QA engineer</td>\n",
       "      <td>NaN</td>\n",
       "      <td>Manual QA</td>\n",
       "      <td>меньше 3 месяцев</td>\n",
       "      <td>меньше 3 месяцев</td>\n",
       "      <td>430</td>\n",
       "      <td>130</td>\n",
       "      <td>Харьков</td>\n",
       "      <td>свыше 1000 человек</td>\n",
       "      <td>...</td>\n",
       "      <td>True</td>\n",
       "      <td>выше среднего</td>\n",
       "      <td>Веб-разработка</td>\n",
       "      <td>12/06/2017 12:42:51</td>\n",
       "      <td>Mozilla/5.0 (iPad; CPU OS 10_2_1 like Mac OS X...</td>\n",
       "      <td>0.0</td>\n",
       "      <td>0.0</td>\n",
       "      <td>430</td>\n",
       "      <td>NaN</td>\n",
       "      <td>QA</td>\n",
       "    </tr>\n",
       "    <tr>\n",
       "      <th>2</th>\n",
       "      <td>3</td>\n",
       "      <td>Software Engineer</td>\n",
       "      <td>C#/.NET</td>\n",
       "      <td>NaN</td>\n",
       "      <td>4</td>\n",
       "      <td>1</td>\n",
       "      <td>2500</td>\n",
       "      <td>800</td>\n",
       "      <td>Киев</td>\n",
       "      <td>до 1000 человек</td>\n",
       "      <td>...</td>\n",
       "      <td>False</td>\n",
       "      <td>средний</td>\n",
       "      <td>Веб-разработка,Корпоративные системы</td>\n",
       "      <td>12/06/2017 13:02:47</td>\n",
       "      <td>Mozilla/5.0 (Windows NT 10.0; Win64; x64) Appl...</td>\n",
       "      <td>4.0</td>\n",
       "      <td>1.0</td>\n",
       "      <td>2500</td>\n",
       "      <td>NaN</td>\n",
       "      <td>DEV</td>\n",
       "    </tr>\n",
       "    <tr>\n",
       "      <th>3</th>\n",
       "      <td>4</td>\n",
       "      <td>Software Engineer</td>\n",
       "      <td>JavaScript</td>\n",
       "      <td>NaN</td>\n",
       "      <td>5</td>\n",
       "      <td>4</td>\n",
       "      <td>2000</td>\n",
       "      <td>400</td>\n",
       "      <td>Одесса</td>\n",
       "      <td>до 200 человек</td>\n",
       "      <td>...</td>\n",
       "      <td>False</td>\n",
       "      <td>ниже среднего</td>\n",
       "      <td>Desktop Applications,Веб-разработка</td>\n",
       "      <td>12/06/2017 13:03:01</td>\n",
       "      <td>Mozilla/5.0 (Windows NT 6.1; Win64; x64) Apple...</td>\n",
       "      <td>5.0</td>\n",
       "      <td>4.0</td>\n",
       "      <td>2000</td>\n",
       "      <td>NaN</td>\n",
       "      <td>DEV</td>\n",
       "    </tr>\n",
       "    <tr>\n",
       "      <th>4</th>\n",
       "      <td>5</td>\n",
       "      <td>Senior Software Engineer</td>\n",
       "      <td>JavaScript</td>\n",
       "      <td>NaN</td>\n",
       "      <td>10 и более лет</td>\n",
       "      <td>0.5</td>\n",
       "      <td>4500</td>\n",
       "      <td>500</td>\n",
       "      <td>Другой</td>\n",
       "      <td>до 10 человек</td>\n",
       "      <td>...</td>\n",
       "      <td>False</td>\n",
       "      <td>средний</td>\n",
       "      <td>Desktop Applications,Веб-разработка</td>\n",
       "      <td>12/06/2017 13:03:47</td>\n",
       "      <td>Mozilla/5.0 (iPhone; CPU iPhone OS 10_3_2 like...</td>\n",
       "      <td>10.0</td>\n",
       "      <td>0.5</td>\n",
       "      <td>4500</td>\n",
       "      <td>NaN</td>\n",
       "      <td>DEV</td>\n",
       "    </tr>\n",
       "  </tbody>\n",
       "</table>\n",
       "<p>5 rows × 25 columns</p>\n",
       "</div>"
      ],
      "text/plain": [
       "   N                 Должность Язык.программирования Специализация   \n",
       "0  1        Junior QA engineer                   NaN     Manual QA  \\\n",
       "1  2        Junior QA engineer                   NaN     Manual QA   \n",
       "2  3         Software Engineer               C#/.NET           NaN   \n",
       "3  4         Software Engineer            JavaScript           NaN   \n",
       "4  5  Senior Software Engineer            JavaScript           NaN   \n",
       "\n",
       "  Общий.опыт.работы Опыт.работы.на.текущем.месте  Зарплата.в.месяц   \n",
       "0               0.5                          0.5               400  \\\n",
       "1  меньше 3 месяцев             меньше 3 месяцев               430   \n",
       "2                 4                            1              2500   \n",
       "3                 5                            4              2000   \n",
       "4    10 и более лет                          0.5              4500   \n",
       "\n",
       "   Изменение.зарплаты.за.12.месяцев    Город     Размер.компании  ...   \n",
       "0                                 0  Харьков       до 10 человек  ...  \\\n",
       "1                               130  Харьков  свыше 1000 человек  ...   \n",
       "2                               800     Киев     до 1000 человек  ...   \n",
       "3                               400   Одесса      до 200 человек  ...   \n",
       "4                               500   Другой       до 10 человек  ...   \n",
       "\n",
       "  Еще.студент Уровень.английского                    Предметная.область   \n",
       "0        True       ниже среднего                         iOS,eCommerce  \\\n",
       "1        True       выше среднего                        Веб-разработка   \n",
       "2       False             средний  Веб-разработка,Корпоративные системы   \n",
       "3       False       ниже среднего   Desktop Applications,Веб-разработка   \n",
       "4       False             средний   Desktop Applications,Веб-разработка   \n",
       "\n",
       "       Дата.заполнения                                         User.Agent   \n",
       "0  12/06/2017 12:38:08  Mozilla/5.0 (Windows NT 10.0; Win64; x64) Appl...  \\\n",
       "1  12/06/2017 12:42:51  Mozilla/5.0 (iPad; CPU OS 10_2_1 like Mac OS X...   \n",
       "2  12/06/2017 13:02:47  Mozilla/5.0 (Windows NT 10.0; Win64; x64) Appl...   \n",
       "3  12/06/2017 13:03:01  Mozilla/5.0 (Windows NT 6.1; Win64; x64) Apple...   \n",
       "4  12/06/2017 13:03:47  Mozilla/5.0 (iPhone; CPU iPhone OS 10_3_2 like...   \n",
       "\n",
       "    exp current_job_exp salary Валюта  cls  \n",
       "0   0.5             0.5    400    NaN   QA  \n",
       "1   0.0             0.0    430    NaN   QA  \n",
       "2   4.0             1.0   2500    NaN  DEV  \n",
       "3   5.0             4.0   2000    NaN  DEV  \n",
       "4  10.0             0.5   4500    NaN  DEV  \n",
       "\n",
       "[5 rows x 25 columns]"
      ]
     },
     "execution_count": 12,
     "metadata": {},
     "output_type": "execute_result"
    }
   ],
   "source": [
    "data = pd.read_csv(\"2017_jun_final.csv\")\n",
    "data.head()"
   ]
  },
  {
   "cell_type": "code",
   "execution_count": 7,
   "metadata": {},
   "outputs": [
    {
     "name": "stdout",
     "output_type": "stream",
     "text": [
      "(8704, 25)\n"
     ]
    }
   ],
   "source": [
    "print(data.shape)"
   ]
  },
  {
   "cell_type": "code",
   "execution_count": 8,
   "metadata": {},
   "outputs": [
    {
     "name": "stdout",
     "output_type": "stream",
     "text": [
      "N                                     int64\n",
      "Должность                            object\n",
      "Язык.программирования                object\n",
      "Специализация                        object\n",
      "Общий.опыт.работы                    object\n",
      "Опыт.работы.на.текущем.месте         object\n",
      "Зарплата.в.месяц                      int64\n",
      "Изменение.зарплаты.за.12.месяцев      int64\n",
      "Город                                object\n",
      "Размер.компании                      object\n",
      "Тип.компании                         object\n",
      "Пол                                  object\n",
      "Возраст                               int64\n",
      "Образование                          object\n",
      "Университет                          object\n",
      "Еще.студент                            bool\n",
      "Уровень.английского                  object\n",
      "Предметная.область                   object\n",
      "Дата.заполнения                      object\n",
      "User.Agent                           object\n",
      "exp                                 float64\n",
      "current_job_exp                     float64\n",
      "salary                                int64\n",
      "Валюта                               object\n",
      "cls                                  object\n",
      "dtype: object\n"
     ]
    }
   ],
   "source": [
    "print(data.dtypes)"
   ]
  },
  {
   "cell_type": "code",
   "execution_count": 9,
   "metadata": {},
   "outputs": [
    {
     "data": {
      "text/plain": [
       "N                                      0\n",
       "Должность                              0\n",
       "Язык.программирования               3850\n",
       "Специализация                       7219\n",
       "Общий.опыт.работы                      0\n",
       "Опыт.работы.на.текущем.месте           0\n",
       "Зарплата.в.месяц                       0\n",
       "Изменение.зарплаты.за.12.месяцев       0\n",
       "Город                                  0\n",
       "Размер.компании                        0\n",
       "Тип.компании                           0\n",
       "Пол                                    0\n",
       "Возраст                                0\n",
       "Образование                            0\n",
       "Университет                          358\n",
       "Еще.студент                            0\n",
       "Уровень.английского                    0\n",
       "Предметная.область                   223\n",
       "Дата.заполнения                        0\n",
       "User.Agent                             0\n",
       "exp                                    0\n",
       "current_job_exp                        0\n",
       "salary                                 0\n",
       "Валюта                              8694\n",
       "cls                                 1574\n",
       "dtype: int64"
      ]
     },
     "execution_count": 9,
     "metadata": {},
     "output_type": "execute_result"
    }
   ],
   "source": [
    "data.isnull().sum()"
   ]
  },
  {
   "cell_type": "code",
   "execution_count": 14,
   "metadata": {},
   "outputs": [
    {
     "name": "stdout",
     "output_type": "stream",
     "text": [
      "['Специализация', 'Университет', 'Предметная.область', 'Валюта', 'cls']\n",
      "(8704, 20)\n",
      "                                  nulls\n",
      "N                                     0\n",
      "Должность                             0\n",
      "Язык.программирования              3850\n",
      "Общий.опыт.работы                     0\n",
      "Опыт.работы.на.текущем.месте          0\n",
      "Зарплата.в.месяц                      0\n",
      "Изменение.зарплаты.за.12.месяцев      0\n",
      "Город                                 0\n",
      "Размер.компании                       0\n",
      "Тип.компании                          0\n",
      "Пол                                   0\n",
      "Возраст                               0\n",
      "Образование                           0\n",
      "Еще.студент                           0\n",
      "Уровень.английского                   0\n",
      "Дата.заполнения                       0\n",
      "User.Agent                            0\n",
      "exp                                   0\n",
      "current_job_exp                       0\n",
      "salary                                0\n"
     ]
    }
   ],
   "source": [
    "cols = data.loc[:, data.isnull().any()].copy().columns.tolist()\n",
    "cols.remove('Язык.программирования')\n",
    "print(cols)\n",
    "\n",
    "new_data = data.drop(cols, axis=1)\n",
    "print(new_data.shape)\n",
    "print(new_data.isnull().sum().to_frame('nulls'))"
   ]
  },
  {
   "cell_type": "code",
   "execution_count": 15,
   "metadata": {},
   "outputs": [],
   "source": [
    "new_data = new_data.dropna()"
   ]
  },
  {
   "cell_type": "code",
   "execution_count": 16,
   "metadata": {},
   "outputs": [
    {
     "data": {
      "text/plain": [
       "(4854, 20)"
      ]
     },
     "execution_count": 16,
     "metadata": {},
     "output_type": "execute_result"
    }
   ],
   "source": [
    "new_data.shape"
   ]
  },
  {
   "cell_type": "code",
   "execution_count": 24,
   "metadata": {},
   "outputs": [],
   "source": [
    "python_data = new_data[new_data['Язык.программирования'].eq('Python')]"
   ]
  },
  {
   "cell_type": "code",
   "execution_count": 20,
   "metadata": {},
   "outputs": [
    {
     "data": {
      "text/plain": [
       "(207, 20)"
      ]
     },
     "execution_count": 20,
     "metadata": {},
     "output_type": "execute_result"
    }
   ],
   "source": [
    "python_data.shape"
   ]
  },
  {
   "cell_type": "code",
   "execution_count": 21,
   "metadata": {},
   "outputs": [],
   "source": [
    "python_data = python_data.groupby('Должность')"
   ]
  },
  {
   "cell_type": "code",
   "execution_count": 23,
   "metadata": {},
   "outputs": [
    {
     "data": {
      "text/html": [
       "<div>\n",
       "<style scoped>\n",
       "    .dataframe tbody tr th:only-of-type {\n",
       "        vertical-align: middle;\n",
       "    }\n",
       "\n",
       "    .dataframe tbody tr th {\n",
       "        vertical-align: top;\n",
       "    }\n",
       "\n",
       "    .dataframe thead th {\n",
       "        text-align: right;\n",
       "    }\n",
       "</style>\n",
       "<table border=\"1\" class=\"dataframe\">\n",
       "  <thead>\n",
       "    <tr style=\"text-align: right;\">\n",
       "      <th></th>\n",
       "      <th>min</th>\n",
       "      <th>max</th>\n",
       "    </tr>\n",
       "    <tr>\n",
       "      <th>Должность</th>\n",
       "      <th></th>\n",
       "      <th></th>\n",
       "    </tr>\n",
       "  </thead>\n",
       "  <tbody>\n",
       "    <tr>\n",
       "      <th>Junior Software Engineer</th>\n",
       "      <td>100</td>\n",
       "      <td>1250</td>\n",
       "    </tr>\n",
       "    <tr>\n",
       "      <th>Senior Software Engineer</th>\n",
       "      <td>1300</td>\n",
       "      <td>9200</td>\n",
       "    </tr>\n",
       "    <tr>\n",
       "      <th>Software Engineer</th>\n",
       "      <td>500</td>\n",
       "      <td>5400</td>\n",
       "    </tr>\n",
       "    <tr>\n",
       "      <th>System Architect</th>\n",
       "      <td>3000</td>\n",
       "      <td>5000</td>\n",
       "    </tr>\n",
       "    <tr>\n",
       "      <th>Technical Lead</th>\n",
       "      <td>1425</td>\n",
       "      <td>6200</td>\n",
       "    </tr>\n",
       "  </tbody>\n",
       "</table>\n",
       "</div>"
      ],
      "text/plain": [
       "                           min   max\n",
       "Должность                           \n",
       "Junior Software Engineer   100  1250\n",
       "Senior Software Engineer  1300  9200\n",
       "Software Engineer          500  5400\n",
       "System Architect          3000  5000\n",
       "Technical Lead            1425  6200"
      ]
     },
     "execution_count": 23,
     "metadata": {},
     "output_type": "execute_result"
    }
   ],
   "source": [
    "python_data['Зарплата.в.месяц'].agg(['min', 'max'])"
   ]
  },
  {
   "cell_type": "code",
   "execution_count": 25,
   "metadata": {},
   "outputs": [],
   "source": [
    "def fill_avg_salary(row):\n",
    "    gd = python_data[python_data['Должность'].eq(row['Должность'])].groupby('Должность')\n",
    "    avg = gd['Зарплата.в.месяц'].agg('mean').round(2).tolist()[0]\n",
    "    return avg"
   ]
  },
  {
   "cell_type": "code",
   "execution_count": 28,
   "metadata": {},
   "outputs": [
    {
     "data": {
      "text/html": [
       "<div>\n",
       "<style scoped>\n",
       "    .dataframe tbody tr th:only-of-type {\n",
       "        vertical-align: middle;\n",
       "    }\n",
       "\n",
       "    .dataframe tbody tr th {\n",
       "        vertical-align: top;\n",
       "    }\n",
       "\n",
       "    .dataframe thead th {\n",
       "        text-align: right;\n",
       "    }\n",
       "</style>\n",
       "<table border=\"1\" class=\"dataframe\">\n",
       "  <thead>\n",
       "    <tr style=\"text-align: right;\">\n",
       "      <th></th>\n",
       "      <th>N</th>\n",
       "      <th>Должность</th>\n",
       "      <th>Язык.программирования</th>\n",
       "      <th>Общий.опыт.работы</th>\n",
       "      <th>Опыт.работы.на.текущем.месте</th>\n",
       "      <th>Зарплата.в.месяц</th>\n",
       "      <th>Изменение.зарплаты.за.12.месяцев</th>\n",
       "      <th>Город</th>\n",
       "      <th>Размер.компании</th>\n",
       "      <th>Тип.компании</th>\n",
       "      <th>...</th>\n",
       "      <th>Возраст</th>\n",
       "      <th>Образование</th>\n",
       "      <th>Еще.студент</th>\n",
       "      <th>Уровень.английского</th>\n",
       "      <th>Дата.заполнения</th>\n",
       "      <th>User.Agent</th>\n",
       "      <th>exp</th>\n",
       "      <th>current_job_exp</th>\n",
       "      <th>salary</th>\n",
       "      <th>avg</th>\n",
       "    </tr>\n",
       "  </thead>\n",
       "  <tbody>\n",
       "    <tr>\n",
       "      <th>12</th>\n",
       "      <td>13</td>\n",
       "      <td>Software Engineer</td>\n",
       "      <td>Python</td>\n",
       "      <td>1</td>\n",
       "      <td>меньше 3 месяцев</td>\n",
       "      <td>800</td>\n",
       "      <td>200</td>\n",
       "      <td>Киев</td>\n",
       "      <td>до 50 человек</td>\n",
       "      <td>Аутсорсинговая</td>\n",
       "      <td>...</td>\n",
       "      <td>26</td>\n",
       "      <td>Высшее</td>\n",
       "      <td>False</td>\n",
       "      <td>ниже среднего</td>\n",
       "      <td>12/06/2017 13:05:54</td>\n",
       "      <td>Mozilla/5.0 (Windows NT 6.1; Win64; x64) Apple...</td>\n",
       "      <td>1.0</td>\n",
       "      <td>0.0</td>\n",
       "      <td>800</td>\n",
       "      <td>1799.07</td>\n",
       "    </tr>\n",
       "    <tr>\n",
       "      <th>68</th>\n",
       "      <td>69</td>\n",
       "      <td>Software Engineer</td>\n",
       "      <td>Python</td>\n",
       "      <td>1.5</td>\n",
       "      <td>0.5</td>\n",
       "      <td>900</td>\n",
       "      <td>900</td>\n",
       "      <td>Киев</td>\n",
       "      <td>до 10 человек</td>\n",
       "      <td>Стартап</td>\n",
       "      <td>...</td>\n",
       "      <td>21</td>\n",
       "      <td>Незаконченное высшее</td>\n",
       "      <td>True</td>\n",
       "      <td>выше среднего</td>\n",
       "      <td>12/06/2017 13:11:17</td>\n",
       "      <td>Mozilla/5.0 (Windows NT 10.0; Win64; x64) Appl...</td>\n",
       "      <td>1.5</td>\n",
       "      <td>0.5</td>\n",
       "      <td>900</td>\n",
       "      <td>1799.07</td>\n",
       "    </tr>\n",
       "    <tr>\n",
       "      <th>87</th>\n",
       "      <td>88</td>\n",
       "      <td>Junior Software Engineer</td>\n",
       "      <td>Python</td>\n",
       "      <td>0.5</td>\n",
       "      <td>0.5</td>\n",
       "      <td>600</td>\n",
       "      <td>0</td>\n",
       "      <td>Киев</td>\n",
       "      <td>до 10 человек</td>\n",
       "      <td>Аутсорсинговая</td>\n",
       "      <td>...</td>\n",
       "      <td>19</td>\n",
       "      <td>Незаконченное высшее</td>\n",
       "      <td>True</td>\n",
       "      <td>выше среднего</td>\n",
       "      <td>12/06/2017 13:12:25</td>\n",
       "      <td>Mozilla/5.0 (X11; Linux x86_64) AppleWebKit/53...</td>\n",
       "      <td>0.5</td>\n",
       "      <td>0.5</td>\n",
       "      <td>600</td>\n",
       "      <td>560.84</td>\n",
       "    </tr>\n",
       "  </tbody>\n",
       "</table>\n",
       "<p>3 rows × 21 columns</p>\n",
       "</div>"
      ],
      "text/plain": [
       "     N                 Должность Язык.программирования Общий.опыт.работы   \n",
       "12  13         Software Engineer                Python                 1  \\\n",
       "68  69         Software Engineer                Python               1.5   \n",
       "87  88  Junior Software Engineer                Python               0.5   \n",
       "\n",
       "   Опыт.работы.на.текущем.месте  Зарплата.в.месяц   \n",
       "12             меньше 3 месяцев               800  \\\n",
       "68                          0.5               900   \n",
       "87                          0.5               600   \n",
       "\n",
       "    Изменение.зарплаты.за.12.месяцев Город Размер.компании    Тип.компании   \n",
       "12                               200  Киев   до 50 человек  Аутсорсинговая  \\\n",
       "68                               900  Киев   до 10 человек         Стартап   \n",
       "87                                 0  Киев   до 10 человек  Аутсорсинговая   \n",
       "\n",
       "    ... Возраст           Образование Еще.студент  Уровень.английского   \n",
       "12  ...      26                Высшее       False        ниже среднего  \\\n",
       "68  ...      21  Незаконченное высшее        True        выше среднего   \n",
       "87  ...      19  Незаконченное высшее        True        выше среднего   \n",
       "\n",
       "        Дата.заполнения                                         User.Agent   \n",
       "12  12/06/2017 13:05:54  Mozilla/5.0 (Windows NT 6.1; Win64; x64) Apple...  \\\n",
       "68  12/06/2017 13:11:17  Mozilla/5.0 (Windows NT 10.0; Win64; x64) Appl...   \n",
       "87  12/06/2017 13:12:25  Mozilla/5.0 (X11; Linux x86_64) AppleWebKit/53...   \n",
       "\n",
       "    exp  current_job_exp  salary      avg  \n",
       "12  1.0              0.0     800  1799.07  \n",
       "68  1.5              0.5     900  1799.07  \n",
       "87  0.5              0.5     600   560.84  \n",
       "\n",
       "[3 rows x 21 columns]"
      ]
     },
     "execution_count": 28,
     "metadata": {},
     "output_type": "execute_result"
    }
   ],
   "source": [
    "python_data.loc[:, 'avg'] = python_data.apply(fill_avg_salary, axis=1)\n",
    "python_data.head(3)"
   ]
  },
  {
   "cell_type": "code",
   "execution_count": 30,
   "metadata": {},
   "outputs": [
    {
     "name": "stdout",
     "output_type": "stream",
     "text": [
      "count     207.000000\n",
      "mean     1753.937343\n",
      "std       996.563935\n",
      "min       560.840000\n",
      "25%       560.840000\n",
      "50%      1799.070000\n",
      "75%      1799.070000\n",
      "max      4000.000000\n",
      "Name: avg, dtype: float64\n"
     ]
    }
   ],
   "source": [
    "statistics = python_data['avg'].describe()\n",
    "print(statistics)"
   ]
  },
  {
   "cell_type": "code",
   "execution_count": null,
   "metadata": {},
   "outputs": [],
   "source": [
    "statistics.to_csv(\"statistics.csv\")"
   ]
  }
 ],
 "metadata": {
  "kernelspec": {
   "display_name": "Python 3",
   "language": "python",
   "name": "python3"
  },
  "language_info": {
   "codemirror_mode": {
    "name": "ipython",
    "version": 3
   },
   "file_extension": ".py",
   "mimetype": "text/x-python",
   "name": "python",
   "nbconvert_exporter": "python",
   "pygments_lexer": "ipython3",
   "version": "3.10.6"
  },
  "orig_nbformat": 4
 },
 "nbformat": 4,
 "nbformat_minor": 2
}
